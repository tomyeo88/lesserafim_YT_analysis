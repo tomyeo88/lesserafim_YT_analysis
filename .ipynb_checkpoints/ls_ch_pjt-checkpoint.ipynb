{
 "cells": [
  {
   "cell_type": "markdown",
   "id": "9bb3bfa6-71df-4685-b146-674d245e64fa",
   "metadata": {},
   "source": [
    "# YouTube Channel Analysis PJT"
   ]
  },
  {
   "cell_type": "markdown",
   "id": "f62bd2ab-f7f4-46cf-baad-865d4fdccf8c",
   "metadata": {},
   "source": [
    "## In this project, I will be analyzing the official YouTube channel of Kpop group LE SSERAFIM.\n",
    "\n",
    "### 1. Get the channel video data, and comments data from LE SSERAFIM channel using YouTube Data API v3.\n",
    "I will be using YouTube Data API v3 to get the official LE SSERAFIM YouTube channel's video data and comments in that videos. \n",
    "\n",
    "### 2. Save the data in pandas dataframe, clean the data, and add new data\n",
    "I will then save the json format data in a pandas dataframe, and clean the data if necessary.\n",
    "I will also tag videos by content format to analyze data further.\n",
    "\n",
    "### 3. Perform exploratory data analysis and find some insights from the data\n",
    "I will go over the data, and find some trends in the video data. \n",
    "Analyze what videos do best in this channel, and what kinds of videos the fans want from this channel. \n",
    "\n",
    "### 4. Lastly, I will come up with some new content format idea for LE SSERAFIM's YouTube channel. "
   ]
  },
  {
   "cell_type": "code",
   "execution_count": null,
   "id": "f4a8bcdd-aa8a-4a78-80b0-922bcbb9451e",
   "metadata": {},
   "outputs": [],
   "source": []
  }
 ],
 "metadata": {
  "kernelspec": {
   "display_name": "Python 3 (ipykernel)",
   "language": "python",
   "name": "python3"
  },
  "language_info": {
   "codemirror_mode": {
    "name": "ipython",
    "version": 3
   },
   "file_extension": ".py",
   "mimetype": "text/x-python",
   "name": "python",
   "nbconvert_exporter": "python",
   "pygments_lexer": "ipython3",
   "version": "3.9.7"
  }
 },
 "nbformat": 4,
 "nbformat_minor": 5
}
